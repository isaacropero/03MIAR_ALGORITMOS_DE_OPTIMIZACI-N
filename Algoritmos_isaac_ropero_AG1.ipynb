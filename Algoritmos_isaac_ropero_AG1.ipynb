{
  "nbformat": 4,
  "nbformat_minor": 0,
  "metadata": {
    "colab": {
      "provenance": [],
      "authorship_tag": "ABX9TyOcpd3YwTRXO9PV01vFX8r8",
      "include_colab_link": true
    },
    "kernelspec": {
      "name": "python3",
      "display_name": "Python 3"
    },
    "language_info": {
      "name": "python"
    }
  },
  "cells": [
    {
      "cell_type": "markdown",
      "metadata": {
        "id": "view-in-github",
        "colab_type": "text"
      },
      "source": [
        "<a href=\"https://colab.research.google.com/github/isaacropero/03MIAR_ALGORITMOS_DE_OPTIMIZACION/blob/main/Algoritmos_isaac_ropero_AG1.ipynb\" target=\"_parent\"><img src=\"https://colab.research.google.com/assets/colab-badge.svg\" alt=\"Open In Colab\"/></a>"
      ]
    },
    {
      "cell_type": "markdown",
      "source": [
        "# AG1 - Actividad Guiada 1\n",
        "## Isaac Ropero Mendez\n",
        "### https://github.com/isaacropero/03MIAR_ALGORITMOS_DE_OPTIMIZACION"
      ],
      "metadata": {
        "id": "uMCrnOU5Ggyw"
      }
    },
    {
      "cell_type": "code",
      "execution_count": 39,
      "metadata": {
        "colab": {
          "base_uri": "https://localhost:8080/"
        },
        "id": "2rJJuiRjGQ73",
        "outputId": "21a1e832-3f8b-4af5-8e81-05adae647a1b"
      },
      "outputs": [
        {
          "output_type": "stream",
          "name": "stdout",
          "text": [
            "Mover disco 1 a 3\n",
            "Mover disco 1 a 2\n",
            "Mover disco 3 a 2\n",
            "Mover disco 1 a 3\n",
            "Mover disco 2 a 1\n",
            "Mover disco 2 a 3\n",
            "Mover disco 1 a 3\n",
            "Mover disco 1 a 2\n",
            "Mover disco 3 a 2\n",
            "Mover disco 3 a 1\n",
            "Mover disco 2 a 1\n",
            "Mover disco 3 a 2\n",
            "Mover disco 1 a 3\n",
            "Mover disco 1 a 2\n",
            "Mover disco 3 a 2\n"
          ]
        }
      ],
      "source": [
        "# Torre de Hanoi\n",
        "\n",
        "def torre_de_hanoi(discos, origen, destino, auxiliar):\n",
        "  if discos == 1:\n",
        "    print(f\"Mover disco {origen} a {destino}\")\n",
        "    return\n",
        "  else:\n",
        "    torre_de_hanoi(discos-1, origen, auxiliar, destino)\n",
        "    print(f\"Mover disco {origen} a {destino}\")\n",
        "    torre_de_hanoi(discos-1, auxiliar, destino, origen)\n",
        "\n",
        "torre_de_hanoi(4, 1, 2, 3)\n"
      ]
    },
    {
      "cell_type": "code",
      "source": [
        "# Devolver cambio\n",
        "import numpy as np\n",
        "\n",
        "def cambio_monedas(cantidad, sistema = [25,10,5,1]):\n",
        "  solucion = np.zeros(len(sistema))\n",
        "  valor_acumulado = 0\n",
        "\n",
        "  for i in range(0, len(sistema)):\n",
        "    monedas = cantidad//sistema[i]\n",
        "\n",
        "    cantidad = cantidad % sistema[i]\n",
        "\n",
        "    solucion[i] = monedas\n",
        "\n",
        "    if cantidad == 0:\n",
        "      break\n",
        "\n",
        "  return solucion\n",
        "\n",
        "cambio_monedas(59)\n"
      ],
      "metadata": {
        "colab": {
          "base_uri": "https://localhost:8080/"
        },
        "id": "cfdYB6fV8aj-",
        "outputId": "c8b781e0-5ce5-44f8-8165-56529d9db900"
      },
      "execution_count": 40,
      "outputs": [
        {
          "output_type": "execute_result",
          "data": {
            "text/plain": [
              "array([2., 0., 1., 4.])"
            ]
          },
          "metadata": {},
          "execution_count": 40
        }
      ]
    }
  ]
}