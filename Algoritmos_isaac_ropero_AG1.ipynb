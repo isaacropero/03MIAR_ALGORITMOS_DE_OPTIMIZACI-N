{
  "nbformat": 4,
  "nbformat_minor": 0,
  "metadata": {
    "colab": {
      "provenance": [],
      "authorship_tag": "ABX9TyMv3XbN4OxeDDsbfDIsxObb",
      "include_colab_link": true
    },
    "kernelspec": {
      "name": "python3",
      "display_name": "Python 3"
    },
    "language_info": {
      "name": "python"
    }
  },
  "cells": [
    {
      "cell_type": "markdown",
      "metadata": {
        "id": "view-in-github",
        "colab_type": "text"
      },
      "source": [
        "<a href=\"https://colab.research.google.com/github/isaacropero/03MIAR_ALGORITMOS_DE_OPTIMIZACION/blob/main/Algoritmos_isaac_ropero_AG1.ipynb\" target=\"_parent\"><img src=\"https://colab.research.google.com/assets/colab-badge.svg\" alt=\"Open In Colab\"/></a>"
      ]
    },
    {
      "cell_type": "markdown",
      "source": [
        "# AG1 - Actividad Guiada 1\n",
        "## Isaac Ropero Mendez\n",
        "### https://github.com/isaacropero/03MIAR_ALGORITMOS_DE_OPTIMIZACION"
      ],
      "metadata": {
        "id": "uMCrnOU5Ggyw"
      }
    },
    {
      "cell_type": "code",
      "execution_count": 39,
      "metadata": {
        "colab": {
          "base_uri": "https://localhost:8080/",
          "height": 0
        },
        "id": "2rJJuiRjGQ73",
        "outputId": "21a1e832-3f8b-4af5-8e81-05adae647a1b"
      },
      "outputs": [
        {
          "output_type": "stream",
          "name": "stdout",
          "text": [
            "Mover disco 1 a 3\n",
            "Mover disco 1 a 2\n",
            "Mover disco 3 a 2\n",
            "Mover disco 1 a 3\n",
            "Mover disco 2 a 1\n",
            "Mover disco 2 a 3\n",
            "Mover disco 1 a 3\n",
            "Mover disco 1 a 2\n",
            "Mover disco 3 a 2\n",
            "Mover disco 3 a 1\n",
            "Mover disco 2 a 1\n",
            "Mover disco 3 a 2\n",
            "Mover disco 1 a 3\n",
            "Mover disco 1 a 2\n",
            "Mover disco 3 a 2\n"
          ]
        }
      ],
      "source": [
        "# Torre de Hanoi\n",
        "\n",
        "def torre_de_hanoi(discos, origen, destino, auxiliar):\n",
        "  if discos == 1:\n",
        "    print(f\"Mover disco {origen} a {destino}\")\n",
        "    return\n",
        "  else:\n",
        "    torre_de_hanoi(discos-1, origen, auxiliar, destino)\n",
        "    print(f\"Mover disco {origen} a {destino}\")\n",
        "    torre_de_hanoi(discos-1, auxiliar, destino, origen)\n",
        "\n",
        "torre_de_hanoi(4, 1, 2, 3)\n"
      ]
    },
    {
      "cell_type": "code",
      "source": [
        "# Devolver cambio\n",
        "import numpy as np\n",
        "\n",
        "def cambio_monedas(cantidad, sistema = [25,10,5,1]):\n",
        "  solucion = np.zeros(len(sistema))\n",
        "  valor_acumulado = 0\n",
        "\n",
        "  for i in range(0, len(sistema)):\n",
        "    monedas = cantidad//sistema[i]\n",
        "\n",
        "    cantidad = cantidad % sistema[i]\n",
        "\n",
        "    solucion[i] = monedas\n",
        "\n",
        "    if cantidad == 0:\n",
        "      break\n",
        "\n",
        "  return solucion\n",
        "\n",
        "cambio_monedas(59)\n"
      ],
      "metadata": {
        "colab": {
          "base_uri": "https://localhost:8080/",
          "height": 0
        },
        "id": "cfdYB6fV8aj-",
        "outputId": "c8b781e0-5ce5-44f8-8165-56529d9db900"
      },
      "execution_count": 40,
      "outputs": [
        {
          "output_type": "execute_result",
          "data": {
            "text/plain": [
              "array([2., 0., 1., 4.])"
            ]
          },
          "metadata": {},
          "execution_count": 40
        }
      ]
    },
    {
      "cell_type": "code",
      "source": [
        "# Encontrar los dos puntos mas cercanos\n",
        "\n",
        "import numpy as np\n",
        "\n",
        "valores = np.random.randint(10000, size=10000)\n",
        "print(valores)\n",
        "\n",
        "min = np.inf\n",
        "min_i = 0\n",
        "min_j = 0\n",
        "\n",
        "for i in range(0, len(valores)):\n",
        "  for j in range(i+1, len(valores)):\n",
        "    if np.abs(valores[i] - valores[j]) < min:\n",
        "      min = np.abs(valores[i] - valores[j])\n",
        "      min_i = i\n",
        "      min_j = j\n",
        "\n",
        "print(f\"Distancia: {min}, valores[{min_i}]={valores[min_i]}, valores[{min_j}]={valores[min_j]}\")\n"
      ],
      "metadata": {
        "colab": {
          "base_uri": "https://localhost:8080/"
        },
        "id": "X-7RATQRHPY3",
        "outputId": "f8efe074-dd74-4d31-abe1-e97aab2c2844"
      },
      "execution_count": 63,
      "outputs": [
        {
          "output_type": "stream",
          "name": "stdout",
          "text": [
            "[5545 8950 5630 ... 7882 1332 3472]\n",
            "Distancia: 0, valores[1]=8950, valores[3574]=8950\n"
          ]
        }
      ]
    },
    {
      "cell_type": "code",
      "source": [
        "# Encontrar los dos puntos mas cercanos (Optimizada)\n",
        "\n",
        "import numpy as np\n",
        "\n",
        "valores = np.random.random(10000)\n",
        "print(valores)\n",
        "\n",
        "min = np.inf\n",
        "min_index = 0\n",
        "\n",
        "valores = np.sort(valores)\n",
        "print(valores)\n",
        "\n",
        "\n",
        "for i in range(1, len(valores)):\n",
        "  if (valores[i] - valores[i-1]) < min:\n",
        "    min = valores[i] - valores[i-1]\n",
        "    min_index = i\n",
        "\n",
        "\n",
        "print(f\"Distancia: {min}, valores[{min_index-1}]={valores[min_index-1]}, valores[{min_index}]={valores[min_index]}\")\n"
      ],
      "metadata": {
        "colab": {
          "base_uri": "https://localhost:8080/"
        },
        "id": "6EvE99RgMCPX",
        "outputId": "534b2230-f1d0-4fc6-c2a5-f62cb690922f"
      },
      "execution_count": 83,
      "outputs": [
        {
          "output_type": "stream",
          "name": "stdout",
          "text": [
            "[0.90395245 0.40959353 0.35047084 ... 0.3925802  0.00599591 0.07296284]\n",
            "[8.27727750e-06 3.56911862e-05 1.40946226e-04 ... 9.99946062e-01\n",
            " 9.99947599e-01 9.99975823e-01]\n",
            "Distancia: 1.5236359729442484e-08, valores[5218]=0.5319064612770282, valores[5219]=0.531906476513388\n"
          ]
        }
      ]
    }
  ]
}