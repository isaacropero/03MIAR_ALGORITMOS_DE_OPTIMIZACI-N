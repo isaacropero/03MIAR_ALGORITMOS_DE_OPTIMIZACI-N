{
  "nbformat": 4,
  "nbformat_minor": 0,
  "metadata": {
    "colab": {
      "provenance": [],
      "authorship_tag": "ABX9TyPHD9mvFFE2SkZsGQelvhth",
      "include_colab_link": true
    },
    "kernelspec": {
      "name": "python3",
      "display_name": "Python 3"
    },
    "language_info": {
      "name": "python"
    }
  },
  "cells": [
    {
      "cell_type": "markdown",
      "metadata": {
        "id": "view-in-github",
        "colab_type": "text"
      },
      "source": [
        "<a href=\"https://colab.research.google.com/github/isaacropero/03MIAR_ALGORITMOS_DE_OPTIMIZACION/blob/main/Algoritmos_isaac_ropero_AG1.ipynb\" target=\"_parent\"><img src=\"https://colab.research.google.com/assets/colab-badge.svg\" alt=\"Open In Colab\"/></a>"
      ]
    },
    {
      "cell_type": "markdown",
      "source": [
        "# AG1 - Actividad Guiada 1\n",
        "## Isaac Ropero Mendez\n",
        "### https://github.com/isaacropero/03MIAR_ALGORITMOS_DE_OPTIMIZACION"
      ],
      "metadata": {
        "id": "uMCrnOU5Ggyw"
      }
    },
    {
      "cell_type": "code",
      "execution_count": 6,
      "metadata": {
        "colab": {
          "base_uri": "https://localhost:8080/"
        },
        "id": "2rJJuiRjGQ73",
        "outputId": "f8c90cab-96ca-418e-aa23-3240b1de521e"
      },
      "outputs": [
        {
          "output_type": "stream",
          "name": "stdout",
          "text": [
            "Mover disco 1 a 2\n",
            "Mover disco 1 a 3\n",
            "Mover disco 2 a 3\n",
            "Mover disco 1 a 2\n",
            "Mover disco 3 a 1\n",
            "Mover disco 3 a 2\n",
            "Mover disco 1 a 2\n"
          ]
        }
      ],
      "source": [
        "# Torre de Hanoi\n",
        "\n",
        "def torre_de_hanoi(discos, origen, destino, auxiliar):\n",
        "  if discos == 1:\n",
        "    print(f\"Mover disco {origen} a {destino}\")\n",
        "    return\n",
        "  else:\n",
        "    torre_de_hanoi(discos-1, origen, auxiliar, destino)\n",
        "    print(f\"Mover disco {origen} a {destino}\")\n",
        "    torre_de_hanoi(discos-1, auxiliar, destino, origen)\n",
        "\n",
        "torre_de_hanoi(3, 1, 2, 3)\n"
      ]
    }
  ]
}