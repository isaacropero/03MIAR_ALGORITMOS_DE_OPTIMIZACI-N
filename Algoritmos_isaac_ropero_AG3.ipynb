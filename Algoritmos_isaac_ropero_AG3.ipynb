{
  "nbformat": 4,
  "nbformat_minor": 0,
  "metadata": {
    "colab": {
      "provenance": [],
      "authorship_tag": "ABX9TyMNxxytDNg249TU1MyCZHNX",
      "include_colab_link": true
    },
    "kernelspec": {
      "name": "python3",
      "display_name": "Python 3"
    },
    "language_info": {
      "name": "python"
    }
  },
  "cells": [
    {
      "cell_type": "markdown",
      "metadata": {
        "id": "view-in-github",
        "colab_type": "text"
      },
      "source": [
        "<a href=\"https://colab.research.google.com/github/isaacropero/03MIAR_ALGORITMOS_DE_OPTIMIZACION/blob/main/Algoritmos_isaac_ropero_AG3.ipynb\" target=\"_parent\"><img src=\"https://colab.research.google.com/assets/colab-badge.svg\" alt=\"Open In Colab\"/></a>"
      ]
    },
    {
      "cell_type": "markdown",
      "source": [
        "  # AG3 - Actividad Guiada 3\n",
        "  ## Isaac Ropero Mendez\n",
        "  ### https://github.com/isaacropero/03MIAR_ALGORITMOS_DE_OPTIMIZACION/\n"
      ],
      "metadata": {
        "id": "fe4iHDjmmecI"
      }
    },
    {
      "cell_type": "markdown",
      "source": [
        "He añadido algunas cosas ya que me resultó interesante el algoritmo. Pero sigue manteniendo la esencia de lo que se hizo en clase."
      ],
      "metadata": {
        "id": "AdvqGhGFKMNe"
      }
    },
    {
      "cell_type": "code",
      "source": [],
      "metadata": {
        "id": "GVikrEWBuJgc"
      },
      "execution_count": null,
      "outputs": []
    }
  ]
}