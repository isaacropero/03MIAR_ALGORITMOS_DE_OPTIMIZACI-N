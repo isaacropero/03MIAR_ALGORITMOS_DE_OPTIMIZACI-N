{
  "nbformat": 4,
  "nbformat_minor": 0,
  "metadata": {
    "colab": {
      "provenance": [],
      "toc_visible": true,
      "authorship_tag": "ABX9TyPts90LzyDtU/LOJpWcg76v",
      "include_colab_link": true
    },
    "kernelspec": {
      "name": "python3",
      "display_name": "Python 3"
    },
    "language_info": {
      "name": "python"
    }
  },
  "cells": [
    {
      "cell_type": "markdown",
      "metadata": {
        "id": "view-in-github",
        "colab_type": "text"
      },
      "source": [
        "<a href=\"https://colab.research.google.com/github/isaacropero/03MIAR_ALGORITMOS_DE_OPTIMIZACION/blob/main/Algoritmos_isaac_ropero_AG3.ipynb\" target=\"_parent\"><img src=\"https://colab.research.google.com/assets/colab-badge.svg\" alt=\"Open In Colab\"/></a>"
      ]
    },
    {
      "cell_type": "markdown",
      "source": [
        "  # AG3 - Actividad Guiada 3\n",
        "  ## Isaac Ropero Mendez\n",
        "  ### https://github.com/isaacropero/03MIAR_ALGORITMOS_DE_OPTIMIZACION/\n"
      ],
      "metadata": {
        "id": "fe4iHDjmmecI"
      }
    },
    {
      "cell_type": "markdown",
      "source": [
        "He añadido algunas cosas ya que me resultó interesante el algoritmo. Pero sigue manteniendo la esencia de lo que se hizo en clase."
      ],
      "metadata": {
        "id": "AdvqGhGFKMNe"
      }
    },
    {
      "cell_type": "code",
      "source": [
        "!pip install requests    #Hacer llamadas http a paginas de la red\n",
        "!pip install tsplib95    #Modulo para las instancias del problema del TSP"
      ],
      "metadata": {
        "colab": {
          "base_uri": "https://localhost:8080/"
        },
        "id": "GVikrEWBuJgc",
        "outputId": "c11ee95f-bc56-4a14-f46e-1c8a83cb6281"
      },
      "execution_count": null,
      "outputs": [
        {
          "output_type": "stream",
          "name": "stdout",
          "text": [
            "Requirement already satisfied: requests in /usr/local/lib/python3.10/dist-packages (2.27.1)\n",
            "Requirement already satisfied: urllib3<1.27,>=1.21.1 in /usr/local/lib/python3.10/dist-packages (from requests) (1.26.16)\n",
            "Requirement already satisfied: certifi>=2017.4.17 in /usr/local/lib/python3.10/dist-packages (from requests) (2023.5.7)\n",
            "Requirement already satisfied: charset-normalizer~=2.0.0 in /usr/local/lib/python3.10/dist-packages (from requests) (2.0.12)\n",
            "Requirement already satisfied: idna<4,>=2.5 in /usr/local/lib/python3.10/dist-packages (from requests) (3.4)\n",
            "Collecting tsplib95\n",
            "  Downloading tsplib95-0.7.1-py2.py3-none-any.whl (25 kB)\n",
            "Requirement already satisfied: Click>=6.0 in /usr/local/lib/python3.10/dist-packages (from tsplib95) (8.1.4)\n",
            "Collecting Deprecated~=1.2.9 (from tsplib95)\n",
            "  Downloading Deprecated-1.2.14-py2.py3-none-any.whl (9.6 kB)\n",
            "Collecting networkx~=2.1 (from tsplib95)\n",
            "  Downloading networkx-2.8.8-py3-none-any.whl (2.0 MB)\n",
            "\u001b[2K     \u001b[90m━━━━━━━━━━━━━━━━━━━━━━━━━━━━━━━━━━━━━━━━\u001b[0m \u001b[32m2.0/2.0 MB\u001b[0m \u001b[31m8.2 MB/s\u001b[0m eta \u001b[36m0:00:00\u001b[0m\n",
            "\u001b[?25hRequirement already satisfied: tabulate~=0.8.7 in /usr/local/lib/python3.10/dist-packages (from tsplib95) (0.8.10)\n",
            "Requirement already satisfied: wrapt<2,>=1.10 in /usr/local/lib/python3.10/dist-packages (from Deprecated~=1.2.9->tsplib95) (1.14.1)\n",
            "Installing collected packages: networkx, Deprecated, tsplib95\n",
            "  Attempting uninstall: networkx\n",
            "    Found existing installation: networkx 3.1\n",
            "    Uninstalling networkx-3.1:\n",
            "      Successfully uninstalled networkx-3.1\n",
            "Successfully installed Deprecated-1.2.14 networkx-2.8.8 tsplib95-0.7.1\n"
          ]
        }
      ]
    },
    {
      "cell_type": "code",
      "source": [
        "import urllib.request #Hacer llamadas http a paginas de la red\n",
        "import tsplib95       #Modulo para las instancias del problema del TSP\n",
        "import math           #Modulo de funciones matematicas. Se usa para exp\n",
        "import random                     #Para generar valores aleatorios\n",
        "\n",
        "#Descargamos el fichero de datos(Matriz de distancias)\n",
        "file = \"swiss42.tsp\" ;\n",
        "urllib.request.urlretrieve(\"http://comopt.ifi.uni-heidelberg.de/software/TSPLIB95/tsp/swiss42.tsp.gz\", file + '.gz')\n",
        "!gzip -d swiss42.tsp.gz     #Descomprimir el fichero de datos"
      ],
      "metadata": {
        "id": "AEuH4Qa8wnYY"
      },
      "execution_count": null,
      "outputs": []
    },
    {
      "cell_type": "code",
      "source": [
        "#Carga de datos y generación de objeto problem\n",
        "###############################################################################\n",
        "problem = tsplib95.load(file)\n",
        "\n",
        "#Nodos\n",
        "nodos = list(problem.get_nodes())\n",
        "\n",
        "#Aristas\n",
        "aristas = list(problem.get_edges())"
      ],
      "metadata": {
        "id": "0UvQCrKvxHyU"
      },
      "execution_count": null,
      "outputs": []
    },
    {
      "cell_type": "code",
      "source": [
        "#Probamos algunas funciones del objeto problem\n",
        "\n",
        "#Todas las funciones\n",
        "#Documentación: https://tsplib95.readthedocs.io/en/v0.6.1/modules.html\n",
        "\n",
        "#Distancia entre nodos\n",
        "problem.get_weight(0, 1)"
      ],
      "metadata": {
        "colab": {
          "base_uri": "https://localhost:8080/"
        },
        "id": "ye3o6exjxLhX",
        "outputId": "e6ef267d-a458-49d9-ba64-b41c1f1aa7dc"
      },
      "execution_count": null,
      "outputs": [
        {
          "output_type": "execute_result",
          "data": {
            "text/plain": [
              "15"
            ]
          },
          "metadata": {},
          "execution_count": 10
        }
      ]
    },
    {
      "cell_type": "code",
      "source": [
        "def crear_solucion(nodos):\n",
        "  solucion = [nodos[0]]\n",
        "  for _ in nodos[1:]:\n",
        "    solucion = solucion + [random.choice(list(set(nodos) - set(solucion)))] # Asignar un nuevo nodo de los que no estan en la lista de la solucion\n",
        "  return solucion\n",
        "\n",
        "#Devuelve la distancia entre dos nodos\n",
        "def distancia(a,b, problem):\n",
        "  return problem.get_weight(a,b)\n",
        "\n",
        "#Devuelve la distancia total de una trayectoria/solucion\n",
        "def distancia_total(solucion, problem):\n",
        "  distancia_total = 0\n",
        "  for i in range(len(solucion)-1):\n",
        "    distancia_total += distancia(solucion[i] ,solucion[i+1] ,  problem)\n",
        "  return distancia_total + distancia(solucion[len(solucion)-1] ,solucion[0], problem)\n",
        "\n"
      ],
      "metadata": {
        "id": "E1jjXCA8xp0-"
      },
      "execution_count": null,
      "outputs": []
    },
    {
      "cell_type": "code",
      "source": [
        "print(crear_solucion(nodos))"
      ],
      "metadata": {
        "colab": {
          "base_uri": "https://localhost:8080/"
        },
        "id": "9QPELUFvzGq_",
        "outputId": "ff84cbf3-d5cf-4d99-96c1-ccfc7c20ea02"
      },
      "execution_count": null,
      "outputs": [
        {
          "output_type": "stream",
          "name": "stdout",
          "text": [
            "[0, 12, 20, 8, 35, 30, 38, 16, 39, 4, 40, 18, 2, 9, 29, 7, 24, 14, 23, 37, 22, 32, 25, 31, 10, 5, 36, 11, 41, 21, 17, 34, 33, 3, 28, 19, 27, 15, 26, 6, 13, 1]\n"
          ]
        }
      ]
    },
    {
      "cell_type": "markdown",
      "source": [
        "#BUSQUEDA ALEATORIA"
      ],
      "metadata": {
        "id": "3pTsJ-0N1u4W"
      }
    },
    {
      "cell_type": "code",
      "source": [
        "###############################################################################\n",
        "# BUSQUEDA ALEATORIA\n",
        "###############################################################################\n",
        "\n",
        "def busqueda_aleatoria(problem, N):\n",
        "  #N es el numero de iteraciones\n",
        "  Nodos = list(problem.get_nodes())\n",
        "\n",
        "  mejor_solucion = []\n",
        "  mejor_distancia = float('inf')                    #Inicializamos con un valor alto\n",
        "\n",
        "  for i in range(N):                                #Criterio de parada: repetir N veces pero podemos incluir otros\n",
        "    solucion = crear_solucion(Nodos)                #Genera una solucion aleatoria\n",
        "    distancia = distancia_total(solucion, problem)  #Calcula el valor objetivo(distancia total)\n",
        "\n",
        "    if distancia < mejor_distancia:                 #Compara con la mejor obtenida hasta ahora\n",
        "      mejor_solucion = solucion\n",
        "      mejor_distancia = distancia\n",
        "\n",
        "\n",
        "  print(\"Mejor solución:\" , mejor_solucion)\n",
        "  print(\"Distancia     :\" , mejor_distancia)\n",
        "  return mejor_solucion\n",
        "\n",
        "\n",
        "#Busqueda aleatoria con 5000 iteraciones\n",
        "solucion = busqueda_aleatoria(problem, 10000)"
      ],
      "metadata": {
        "colab": {
          "base_uri": "https://localhost:8080/"
        },
        "id": "mP87SIoL1tO4",
        "outputId": "59c48c14-e3e5-4d63-c399-576782b97241"
      },
      "execution_count": null,
      "outputs": [
        {
          "output_type": "stream",
          "name": "stdout",
          "text": [
            "Mejor solución: [0, 10, 5, 3, 41, 24, 32, 18, 21, 36, 35, 28, 17, 37, 40, 22, 9, 38, 34, 31, 7, 15, 33, 20, 1, 2, 11, 29, 25, 8, 23, 30, 39, 27, 4, 13, 14, 16, 12, 19, 6, 26]\n",
            "Distancia     : 3730\n"
          ]
        }
      ]
    },
    {
      "cell_type": "markdown",
      "source": [
        "#BUSQUEDA LOCAL"
      ],
      "metadata": {
        "id": "yP21A_fO1tAu"
      }
    },
    {
      "cell_type": "markdown",
      "source": [
        "## Vecindarios\n",
        "2-opt -> genera_vecina_2opt </br>\n",
        "3-opt -> genera_vecina_3opt"
      ],
      "metadata": {
        "id": "B9uVCmmRO9RU"
      }
    },
    {
      "cell_type": "code",
      "source": [
        "def genera_vecina_2opt(solucion):\n",
        "  mejor_solucion = []\n",
        "  mejor_distancia = float('inf')\n",
        "\n",
        "  for i in range(1, len(solucion)-1): # Recorremos todos los nodos en bucle doble para evaluar todos los intercambios 2-opt. La posicion 0 no se puede mover.\n",
        "    for j in range(i+1, len(solucion)):\n",
        "      solucion[i], solucion[j] = solucion[j], solucion[i] # Hacer el swap\n",
        "\n",
        "      distancia_vecina = distancia_total(solucion, problem)\n",
        "\n",
        "      if distancia_vecina < mejor_distancia:\n",
        "        mejor_distancia = distancia_vecina\n",
        "        mejor_solucion = solucion[:]\n",
        "\n",
        "      solucion[i], solucion[j] = solucion[j], solucion[i] # Revertir el swap\n",
        "\n",
        "  return mejor_solucion\n",
        "\n",
        "def genera_vecina_3opt(solucion):\n",
        "  mejor_solucion = []\n",
        "  mejor_distancia = float('inf')\n",
        "\n",
        "  for i in range(1, len(solucion)-2):\n",
        "    for j in range(i+1, len(solucion)-1):\n",
        "      for k in range(j+1, len(solucion)):\n",
        "        vecina = solucion[:i] + [solucion[j]] + solucion[i+1:j] + [solucion[k]] + solucion[j+1:k] + [solucion[i]] + solucion[k+1:]\n",
        "        distancia_vecina = distancia_total(vecina, problem)\n",
        "\n",
        "        if distancia_vecina <= mejor_distancia:\n",
        "          mejor_distancia = distancia_vecina\n",
        "          mejor_solucion = vecina\n",
        "\n",
        "  return mejor_solucion"
      ],
      "metadata": {
        "id": "ebAr3D7q_MH4"
      },
      "execution_count": null,
      "outputs": []
    },
    {
      "cell_type": "code",
      "source": [
        "solucion = crear_solucion(nodos)\n",
        "coste = distancia_total(solucion, problem)\n",
        "print(f'Solucion random sin aplicar nada: {coste}')\n",
        "print(f'{solucion}\\n')\n",
        "\n",
        "solucion = busqueda_aleatoria(problem, 10000)\n",
        "print(\"Solucion random buscando la de menor distancia -> busqueda_aleatoria():\" , distancia_total(solucion, problem), \"\\n\")\n",
        "\n",
        "nueva_solucion = genera_vecina_2opt(solucion)\n",
        "print(\"Distancia Mejor Solucion Local -> genera_vecina_2opt():\", distancia_total(nueva_solucion, problem), \"\\n\")\n",
        "\n",
        "nueva_solucion = genera_vecina_3opt(solucion)\n",
        "print(\"Distancia Mejor Solucion Local -> genera_vecina_3opt():\", distancia_total(nueva_solucion, problem))"
      ],
      "metadata": {
        "colab": {
          "base_uri": "https://localhost:8080/"
        },
        "id": "mrvInwc3K7my",
        "outputId": "3d26dd85-1fab-40e0-9b63-8735bd05aae0"
      },
      "execution_count": null,
      "outputs": [
        {
          "output_type": "stream",
          "name": "stdout",
          "text": [
            "Solucion random sin aplicar nada: 5039\n",
            "[0, 10, 18, 13, 26, 7, 23, 30, 19, 11, 33, 3, 22, 39, 6, 14, 21, 15, 36, 2, 27, 31, 32, 41, 9, 5, 37, 38, 16, 25, 34, 29, 1, 8, 20, 17, 28, 35, 24, 12, 40, 4]\n",
            "\n",
            "Mejor solución: [0, 41, 10, 12, 7, 14, 5, 13, 37, 16, 34, 29, 38, 39, 22, 30, 8, 3, 36, 35, 24, 2, 27, 26, 15, 4, 31, 40, 21, 18, 25, 19, 28, 1, 6, 11, 33, 9, 23, 32, 20, 17]\n",
            "Distancia     : 3771\n",
            "Solucion random buscando la de menor distancia -> busqueda_aleatoria(): 3771 \n",
            "\n",
            "Distancia Mejor Solucion Local -> genera_vecina_2opt(): 3344 \n",
            "\n",
            "Distancia Mejor Solucion Local -> genera_vecina_3opt(): 3318\n"
          ]
        }
      ]
    },
    {
      "cell_type": "markdown",
      "source": [
        "## Variable Neighborhood Search (VNS)"
      ],
      "metadata": {
        "id": "6g6QJagROwN1"
      }
    },
    {
      "cell_type": "code",
      "source": [
        "# Crear soluciones\n",
        "solucion = busqueda_aleatoria(problem, 10000)\n",
        "coste = distancia_total(solucion, problem)\n",
        "\n",
        "mejor_solucion = solucion\n",
        "mejor_coste = coste\n",
        "\n",
        "vecindarios = [genera_vecina_2opt, genera_vecina_3opt]\n",
        "print(f'{mejor_solucion}\\n{mejor_coste}')\n",
        "\n",
        "iteraciones = 0\n",
        "max_iteraciones_permitidas = 10\n",
        "while(iteraciones < max_iteraciones_permitidas):\n",
        "  for vecindario in vecindarios:\n",
        "    solucion = vecindario(mejor_solucion)\n",
        "\n",
        "    coste = distancia_total(solucion, problem)\n",
        "\n",
        "    if coste < mejor_coste:\n",
        "      mejor_coste = coste\n",
        "      mejor_solucion = solucion\n",
        "      iteraciones = 0\n",
        "    else:\n",
        "      iteraciones += 1\n",
        "\n",
        "print(f'{mejor_solucion}\\n{mejor_coste}')"
      ],
      "metadata": {
        "colab": {
          "base_uri": "https://localhost:8080/"
        },
        "id": "xIfUpZ7RO3nB",
        "outputId": "a3007f2f-8d19-4f01-8960-6db5d6d02468"
      },
      "execution_count": 114,
      "outputs": [
        {
          "output_type": "stream",
          "name": "stdout",
          "text": [
            "Mejor solución: [0, 4, 41, 40, 8, 28, 27, 23, 29, 10, 31, 33, 34, 20, 35, 36, 19, 6, 18, 5, 14, 9, 24, 11, 21, 38, 2, 7, 30, 15, 16, 32, 22, 17, 39, 25, 13, 37, 26, 3, 1, 12]\n",
            "Distancia     : 3736\n",
            "[0, 4, 41, 40, 8, 28, 27, 23, 29, 10, 31, 33, 34, 20, 35, 36, 19, 6, 18, 5, 14, 9, 24, 11, 21, 38, 2, 7, 30, 15, 16, 32, 22, 17, 39, 25, 13, 37, 26, 3, 1, 12]\n",
            "3736\n",
            "[0, 29, 9, 23, 41, 10, 25, 11, 12, 18, 32, 34, 33, 20, 35, 36, 16, 14, 19, 13, 8, 40, 24, 21, 39, 22, 38, 31, 17, 37, 15, 7, 30, 28, 27, 2, 3, 4, 26, 5, 6, 1]\n",
            "1763\n"
          ]
        }
      ]
    }
  ]
}